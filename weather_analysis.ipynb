{
  "cells": [
    {
      "cell_type": "markdown",
      "metadata": {},
      "source": [
        "# Weather Station Data Analysis\n",
        "\n",
        "This notebook fetches and analyzes historical data from Ellwood weather stations."
      ]
    },
    {
      "cell_type": "code",
      "execution_count": 1,
      "metadata": {},
      "outputs": [
        {
          "data": {
            "text/plain": [
              "True"
            ]
          },
          "execution_count": 1,
          "metadata": {},
          "output_type": "execute_result"
        }
      ],
      "source": [
        "import os\n",
        "import json\n",
        "import time\n",
        "from datetime import datetime, timedelta\n",
        "import pytz\n",
        "import requests\n",
        "import pandas as pd\n",
        "import numpy as np\n",
        "import matplotlib.pyplot as plt\n",
        "from dotenv import load_dotenv\n",
        "\n",
        "# Load environment variables\n",
        "load_dotenv()"
      ]
    },
    {
      "cell_type": "code",
      "execution_count": 2,
      "metadata": {},
      "outputs": [],
      "source": [
        "# Configuration\n",
        "API_KEY = os.getenv('API_KEY')\n",
        "APPLICATION_KEY = os.getenv('APPLICATION_KEY')\n",
        "BASE_URL = 'https://rt.ambientweather.net/v1/devices'\n",
        "PACIFIC_TZ = pytz.timezone('America/Los_Angeles')\n",
        "\n",
        "# Station configurations\n",
        "STATIONS = {\n",
        "    'ellwood_main': {\n",
        "        'name': 'Ellwood Main',\n",
        "        'mac_address': os.getenv('ELLWOOD_MAIN_MAC')\n",
        "    },\n",
        "    'ellwood_mesa': {\n",
        "        'name': 'Ellwood Mesa',\n",
        "        'mac_address': os.getenv('ELLWOOD_MESA_MAC')\n",
        "    }\n",
        "}"
      ]
    },
    {
      "cell_type": "code",
      "execution_count": 3,
      "metadata": {},
      "outputs": [],
      "source": [
        "def get_historical_data(mac_address, start_date, end_date, retries=3, delay=5):\n",
        "    \"\"\"Fetch historical data for a specific station between two dates.\"\"\"\n",
        "    # Convert dates to UTC for API request\n",
        "    start_time_utc = start_date.astimezone(pytz.UTC)\n",
        "    end_time_utc = end_date.astimezone(pytz.UTC)\n",
        "    \n",
        "    params = {\n",
        "        'apiKey': API_KEY,\n",
        "        'applicationKey': APPLICATION_KEY,\n",
        "        'endDate': end_time_utc.strftime('%Y-%m-%dT%H:%M:%S.000Z'),\n",
        "        'startDate': start_time_utc.strftime('%Y-%m-%dT%H:%M:%S.000Z'),\n",
        "        'mac': mac_address,\n",
        "        'limit': 288  # Maximum records per request\n",
        "    }\n",
        "    \n",
        "    url = f\"{BASE_URL}/{mac_address}\"\n",
        "    all_data = []\n",
        "    \n",
        "    current_start = start_time_utc\n",
        "    while current_start < end_time_utc:\n",
        "        current_end = min(current_start + timedelta(days=1), end_time_utc)\n",
        "        params['startDate'] = current_start.strftime('%Y-%m-%dT%H:%M:%S.000Z')\n",
        "        params['endDate'] = current_end.strftime('%Y-%m-%dT%H:%M:%S.000Z')\n",
        "        \n",
        "        for attempt in range(retries):\n",
        "            try:\n",
        "                response = requests.get(url, params=params)\n",
        "                response.raise_for_status()\n",
        "                data = response.json()\n",
        "                all_data.extend(data)\n",
        "                break\n",
        "            except requests.exceptions.RequestException as e:\n",
        "                if attempt == retries - 1:\n",
        "                    raise Exception(f\"Failed to fetch data after {retries} attempts: {str(e)}\")\n",
        "                print(f\"Attempt {attempt + 1} failed, retrying in {delay} seconds...\")\n",
        "                time.sleep(delay)\n",
        "        \n",
        "        current_start = current_end\n",
        "        time.sleep(1)  # Rate limiting\n",
        "    \n",
        "    return all_data"
      ]
    },
    {
      "cell_type": "code",
      "execution_count": 4,
      "metadata": {},
      "outputs": [],
      "source": [
        "def convert_to_local_time(utc_value):\n",
        "    \"\"\"Convert UTC timestamp to Pacific Time.\"\"\"\n",
        "    if isinstance(utc_value, (int, float)):\n",
        "        try:\n",
        "            utc_dt = datetime.fromtimestamp(utc_value, pytz.UTC)\n",
        "        except (ValueError, OSError):\n",
        "            try:\n",
        "                utc_dt = datetime.fromtimestamp(utc_value / 1000, pytz.UTC)\n",
        "            except (ValueError, OSError) as e:\n",
        "                print(f\"Error parsing timestamp {utc_value}: {e}\")\n",
        "                return None\n",
        "    else:\n",
        "        try:\n",
        "            utc_dt = datetime.strptime(utc_value, '%Y-%m-%dT%H:%M:%S.%fZ')\n",
        "            utc_dt = pytz.utc.localize(utc_dt)\n",
        "        except (ValueError, TypeError):\n",
        "            try:\n",
        "                timestamp = float(utc_value)\n",
        "                if len(str(int(timestamp))) > 10:\n",
        "                    timestamp = timestamp / 1000\n",
        "                utc_dt = datetime.fromtimestamp(timestamp, pytz.UTC)\n",
        "            except (ValueError, TypeError, OSError) as e:\n",
        "                print(f\"Error parsing timestamp {utc_value}: {e}\")\n",
        "                return None\n",
        "    return utc_dt.astimezone(PACIFIC_TZ)"
      ]
    },
    {
      "cell_type": "code",
      "execution_count": 5,
      "metadata": {
        "tags": [
          "Data Donwload"
        ]
      },
      "outputs": [
        {
          "name": "stdout",
          "output_type": "stream",
          "text": [
            "Fetching data from 2025-02-09 00:00:00-08:00 to 2025-02-19 00:00:00-08:00\n",
            "Fetching data for Ellwood Main...\n",
            "Successfully fetched 437 records for Ellwood Main\n",
            "Fetching data for Ellwood Mesa...\n",
            "Successfully fetched 433 records for Ellwood Mesa\n"
          ]
        }
      ],
      "source": [
        "# Set the date range for historical data (last 90 days)\n",
        "end_date = datetime.now(PACIFIC_TZ).replace(hour=0, minute=0, second=0, microsecond=0)\n",
        "start_date = end_date - timedelta(days=10)\n",
        "\n",
        "print(f\"Fetching data from {start_date} to {end_date}\")\n",
        "\n",
        "# Fetch data for each station\n",
        "all_station_data = {}\n",
        "\n",
        "for station_id, station_info in STATIONS.items():\n",
        "    if not station_info['mac_address']:\n",
        "        print(f\"Warning: MAC address not configured for {station_info['name']}\")\n",
        "        continue\n",
        "        \n",
        "    print(f\"Fetching data for {station_info['name']}...\")\n",
        "    try:\n",
        "        data = get_historical_data(station_info['mac_address'], start_date, end_date)\n",
        "        \n",
        "        # Convert to DataFrame\n",
        "        df = pd.DataFrame(data)\n",
        "        df['local_time'] = df['dateutc'].apply(convert_to_local_time)\n",
        "        df = df.dropna(subset=['local_time'])\n",
        "        \n",
        "        if not df.empty:\n",
        "            df['date'] = df['local_time'].dt.date\n",
        "            all_station_data[station_id] = df\n",
        "            print(f\"Successfully fetched {len(df)} records for {station_info['name']}\")\n",
        "        else:\n",
        "            print(f\"No valid data found for {station_info['name']}\")\n",
        "            \n",
        "    except Exception as e:\n",
        "        print(f\"Error processing {station_info['name']}: {str(e)}\")"
      ]
    },
    {
      "cell_type": "code",
      "execution_count": 11,
      "metadata": {},
      "outputs": [
        {
          "data": {
            "text/plain": [
              "Index(['dateutc', 'windspeedmph', 'windgustmph', 'hourlyrainin', 'dailyrainin',\n",
              "       'trustdevicetime', 'winddir', 'tempf', 'humidity', 'baromabsin',\n",
              "       'baromrelin', 'solarradiation', 'sis', 'sds', 'solarradday', 'tz',\n",
              "       'historical', 'feelsLike', 'dewPoint', 'passkey', 'time', 'loc', 'date',\n",
              "       'batt1volts', 'lastRain', 'local_time'],\n",
              "      dtype='object')"
            ]
          },
          "execution_count": 11,
          "metadata": {},
          "output_type": "execute_result"
        }
      ],
      "source": [
        "df.columns"
      ]
    }
  ],
  "metadata": {
    "kernelspec": {
      "display_name": "venv",
      "language": "python",
      "name": "python3"
    },
    "language_info": {
      "codemirror_mode": {
        "name": "ipython",
        "version": 3
      },
      "file_extension": ".py",
      "mimetype": "text/x-python",
      "name": "python",
      "nbconvert_exporter": "python",
      "pygments_lexer": "ipython3",
      "version": "3.11.3"
    }
  },
  "nbformat": 4,
  "nbformat_minor": 4
}
